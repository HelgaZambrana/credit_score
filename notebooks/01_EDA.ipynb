{
 "cells": [
  {
   "cell_type": "markdown",
   "id": "52bf698a",
   "metadata": {},
   "source": [
    "# Análisis Exploratorio de Datos Crediticios\n",
    "Proyecto en progreso – Análisis de perfiles y segmentación"
   ]
  },
  {
   "cell_type": "markdown",
   "id": "5f4772d6",
   "metadata": {},
   "source": [
    "## 1. Inicialización de rutas y carga de archivos"
   ]
  },
  {
   "cell_type": "code",
   "execution_count": 15,
   "id": "9905d04d",
   "metadata": {},
   "outputs": [
    {
     "name": "stdout",
     "output_type": "stream",
     "text": [
      "Carpeta base: /Users/helgazambrana/Desktop/HELGA/ESTUDIO/MKT_CS_DATOS/proyecto_crediticio\n",
      "Carpeta data: /Users/helgazambrana/Desktop/HELGA/ESTUDIO/MKT_CS_DATOS/proyecto_crediticio/data\n",
      "personas.csv encontrado\n",
      "operaciones.csv encontrado\n",
      "household.csv encontrado\n"
     ]
    }
   ],
   "source": [
    "import os\n",
    "from pathlib import Path\n",
    "import pandas as pd\n",
    "from datetime import datetime\n",
    "\n",
    "# --- Detectar carpeta base ---\n",
    "current_dir = Path().resolve()\n",
    "if current_dir.name == 'notebooks':\n",
    "    BASE_DIR = current_dir.parent\n",
    "else:\n",
    "    BASE_DIR = current_dir\n",
    "\n",
    "DATA_DIR = BASE_DIR / \"data\"\n",
    "\n",
    "print(f\"Carpeta base: {BASE_DIR}\")\n",
    "print(f\"Carpeta data: {DATA_DIR}\")\n",
    "\n",
    "# --- Verificar existencia de carpeta data ---\n",
    "if not DATA_DIR.exists():\n",
    "    raise FileNotFoundError(f\"No se encontró la carpeta data en {DATA_DIR}\")\n",
    "\n",
    "# --- Verificar archivos ---\n",
    "required_files = [\"personas.csv\", \"operaciones.csv\", \"household.csv\"]\n",
    "for file in required_files:\n",
    "    file_path = DATA_DIR / file\n",
    "    if file_path.exists():\n",
    "        print(f\"{file} encontrado\")\n",
    "    else:\n",
    "        print(f\"{file} no encontrado (continuará sin este archivo)\")\n",
    "\n",
    "# --- Configuración Pandas ---\n",
    "pd.set_option('display.max_columns', None)"
   ]
  },
  {
   "cell_type": "markdown",
   "id": "1cd04290",
   "metadata": {},
   "source": [
    "## 2. Cargar datos reconociendo separador"
   ]
  },
  {
   "cell_type": "code",
   "execution_count": 17,
   "id": "ec9315bf",
   "metadata": {},
   "outputs": [
    {
     "name": "stdout",
     "output_type": "stream",
     "text": [
      "Datos cargados\n"
     ]
    }
   ],
   "source": [
    "path_personas = DATA_DIR / \"personas.csv\"\n",
    "path_operaciones = DATA_DIR / \"operaciones.csv\"\n",
    "path_household = DATA_DIR / \"household.csv\"\n",
    "\n",
    "df_personas = pd.read_csv(path_personas, sep=\";\", low_memory=False)\n",
    "df_operaciones = pd.read_csv(path_operaciones, sep=\";\", low_memory=False)\n",
    "\n",
    "if path_household.exists():\n",
    "    df_household = pd.read_csv(path_household, sep=\";\", low_memory=False)\n",
    "else:\n",
    "    df_household = None\n",
    "\n",
    "print(\"Datos cargados\")    \n"
   ]
  },
  {
   "cell_type": "markdown",
   "id": "5de83ff1",
   "metadata": {},
   "source": [
    "## 3. Revisión inicial con tipos de datos"
   ]
  },
  {
   "cell_type": "code",
   "execution_count": 18,
   "id": "77e3de79",
   "metadata": {},
   "outputs": [
    {
     "name": "stdout",
     "output_type": "stream",
     "text": [
      "\n",
      "Tipos de datos - Personas:\n",
      "pers_id                 object\n",
      "generaciones            object\n",
      "sexo                    object\n",
      "situacion_laboral       object\n",
      "region_arg              object\n",
      "provincia               object\n",
      "nivel_bancarizacion     object\n",
      "flag_prestamo          float64\n",
      "flag_tarjeta             int64\n",
      "ip20_continuo          float64\n",
      "dtype: object\n",
      "\n",
      "Tipos de datos - Operaciones:\n",
      "pers_id                  object\n",
      "ID_TRADELINE              int64\n",
      "TIPO_PRODUCTO            object\n",
      "PERIODO_INFO             object\n",
      "FECHA_OTORGAMIENTO       object\n",
      "MONT_REFE               float64\n",
      "SALD_REFE               float64\n",
      "SALDO_MORA              float64\n",
      "CUOTA                   float64\n",
      "TIPO_ENTIDAD             object\n",
      "FLAG_PUBLICO_PRIVADO     object\n",
      "vg_score                float64\n",
      "dtype: object\n",
      "\n",
      "Tipos de datos - Household:\n",
      "periodo                  int64\n",
      "pers_id_hh             float64\n",
      "pers_id                 object\n",
      "lider                    int64\n",
      "hh_pers_cant           float64\n",
      "hh_menores_cant        float64\n",
      "hh_mayores_cant        float64\n",
      "hh_adulmayores_cant    float64\n",
      "hh_menores_prop        float64\n",
      "hh_bebe_flag           float64\n",
      "hh_tipo_familia         object\n",
      "hh_ip_lider            float64\n",
      "hh_ip_lider_cat         object\n",
      "hh_ip_percapita        float64\n",
      "hh_score_lider         float64\n",
      "hh_score_prom          float64\n",
      "dtype: object\n"
     ]
    }
   ],
   "source": [
    "print(\"\\nTipos de datos - Personas:\")\n",
    "print(df_personas.dtypes)\n",
    "\n",
    "print(\"\\nTipos de datos - Operaciones:\")\n",
    "print(df_operaciones.dtypes)\n",
    "\n",
    "if df_household is not None:\n",
    "    print(\"\\nTipos de datos - Household:\")\n",
    "    print(df_household.dtypes)"
   ]
  },
  {
   "cell_type": "markdown",
   "id": "7a78a542",
   "metadata": {},
   "source": [
    "## 4. Validación y conversión de tipos según data dictionary"
   ]
  },
  {
   "cell_type": "code",
   "execution_count": 21,
   "id": "009cf162",
   "metadata": {},
   "outputs": [
    {
     "name": "stdout",
     "output_type": "stream",
     "text": [
      "Conversión de tipos finalizada\n"
     ]
    }
   ],
   "source": [
    "# Diccionario de tipos esperados (ajustar si falta alguna columna en tus CSV)\n",
    "expected_types = {\n",
    "    \"df_personas\": {\n",
    "        \"pers_id\": str,\n",
    "        \"generaciones\": str,\n",
    "        \"sexo\": str,\n",
    "        \"situacion_laboral\": str,\n",
    "        \"region_arg\": str,\n",
    "        \"provincia\": str,\n",
    "        \"nivel_bancarizacion\": str,\n",
    "        \"flag_prestamo\": \"Int64\",   # enteros con nulos permitidos\n",
    "        \"flag_tarjeta\": \"Int64\",\n",
    "        \"ip20_continuo\": float\n",
    "    },\n",
    "    \"df_operaciones\": {\n",
    "        \"pers_id\": str,\n",
    "        \"ID_TRADELINE\": str,\n",
    "        \"TIPO_PRODUCTO\": str,\n",
    "        \"PERIODO_INFO\": str,  # convertir a fecha más adelante\n",
    "        \"FECHA_OTORGAMIENTO\": str,  # también a fecha después\n",
    "        \"MONT_REFE\": float,\n",
    "        \"SALD_REFE\": float,\n",
    "        \"SALDO_MORA\": float,\n",
    "        \"CUOTA\": float,\n",
    "        \"TIPO_ENTIDAD\": str,\n",
    "        \"FLAG PÚBLICO PRIVADO\": str,\n",
    "        \"vg_score\": float\n",
    "    },\n",
    "    \"df_household\": {\n",
    "        \"periodo\": str,\n",
    "        \"pers_id_hh\": \"Int64\",\n",
    "        \"pers_id\": str,\n",
    "        \"lider\": \"Int64\",\n",
    "        \"hh_pers_cant\": \"Int64\",\n",
    "        \"hh_menores_cant\": \"Int64\",\n",
    "        \"hh_mayores_cant\": \"Int64\",\n",
    "        \"hh_adulmayores_cant\": \"Int64\",\n",
    "        \"hh_menores_prop\": float,\n",
    "        \"hh_bebe_flag\": \"Int64\",\n",
    "        \"hh_tipo_familia\": str,\n",
    "        \"hh_ip_lider\": float,\n",
    "        \"hh_ip_lider_cat\": str,\n",
    "        \"hh_ip_percapita\": float,\n",
    "        \"hh_score_lider\": float,\n",
    "        \"hh_score_prom\": float\n",
    "    }\n",
    "}\n",
    "\n",
    "# Función para convertir tipos\n",
    "def enforce_dtypes(df, dtypes_map, df_name):\n",
    "    for col, dtype in dtypes_map.items():\n",
    "        if col in df.columns:\n",
    "            try:\n",
    "                df[col] = df[col].astype(dtype)\n",
    "            except Exception as e:\n",
    "                print(f\"No se pudo convertir {df_name}.{col} a {dtype}: {e}\")\n",
    "    return df\n",
    "\n",
    "# Aplicar conversión\n",
    "df_personas = enforce_dtypes(df_personas, expected_types[\"df_personas\"], \"df_personas\")\n",
    "df_operaciones = enforce_dtypes(df_operaciones, expected_types[\"df_operaciones\"], \"df_operaciones\")\n",
    "\n",
    "if df_household is not None:\n",
    "    df_household = enforce_dtypes(df_household, expected_types[\"df_household\"], \"df_household\")\n",
    "\n",
    "print(\"Conversión de tipos finalizada\")\n"
   ]
  },
  {
   "cell_type": "markdown",
   "id": "c8833337",
   "metadata": {},
   "source": [
    "## 5. Resumen post-transformación"
   ]
  },
  {
   "cell_type": "code",
   "execution_count": 22,
   "id": "83d0d9f6",
   "metadata": {},
   "outputs": [
    {
     "name": "stdout",
     "output_type": "stream",
     "text": [
      "\n",
      "Resumen de tipos después de conversión - Personas:\n",
      "pers_id                 object\n",
      "generaciones            object\n",
      "sexo                    object\n",
      "situacion_laboral       object\n",
      "region_arg              object\n",
      "provincia               object\n",
      "nivel_bancarizacion     object\n",
      "flag_prestamo            Int64\n",
      "flag_tarjeta             Int64\n",
      "ip20_continuo          float64\n",
      "dtype: object\n",
      "\n",
      "Resumen de tipos después de conversión - Operaciones:\n",
      "pers_id                  object\n",
      "ID_TRADELINE             object\n",
      "TIPO_PRODUCTO            object\n",
      "PERIODO_INFO             object\n",
      "FECHA_OTORGAMIENTO       object\n",
      "MONT_REFE               float64\n",
      "SALD_REFE               float64\n",
      "SALDO_MORA              float64\n",
      "CUOTA                   float64\n",
      "TIPO_ENTIDAD             object\n",
      "FLAG_PUBLICO_PRIVADO     object\n",
      "vg_score                float64\n",
      "dtype: object\n",
      "\n",
      "Resumen de tipos después de conversión - Household:\n",
      "periodo                 object\n",
      "pers_id_hh               Int64\n",
      "pers_id                 object\n",
      "lider                    Int64\n",
      "hh_pers_cant             Int64\n",
      "hh_menores_cant          Int64\n",
      "hh_mayores_cant          Int64\n",
      "hh_adulmayores_cant      Int64\n",
      "hh_menores_prop        float64\n",
      "hh_bebe_flag             Int64\n",
      "hh_tipo_familia         object\n",
      "hh_ip_lider            float64\n",
      "hh_ip_lider_cat         object\n",
      "hh_ip_percapita        float64\n",
      "hh_score_lider         float64\n",
      "hh_score_prom          float64\n",
      "dtype: object\n"
     ]
    }
   ],
   "source": [
    "print(\"\\nResumen de tipos después de conversión - Personas:\")\n",
    "print(df_personas.dtypes)\n",
    "\n",
    "print(\"\\nResumen de tipos después de conversión - Operaciones:\")\n",
    "print(df_operaciones.dtypes)\n",
    "\n",
    "if df_household is not None:\n",
    "    print(\"\\nResumen de tipos después de conversión - Household:\")\n",
    "    print(df_household.dtypes)"
   ]
  }
 ],
 "metadata": {
  "kernelspec": {
   "display_name": "env",
   "language": "python",
   "name": "python3"
  },
  "language_info": {
   "codemirror_mode": {
    "name": "ipython",
    "version": 3
   },
   "file_extension": ".py",
   "mimetype": "text/x-python",
   "name": "python",
   "nbconvert_exporter": "python",
   "pygments_lexer": "ipython3",
   "version": "3.11.13"
  }
 },
 "nbformat": 4,
 "nbformat_minor": 5
}
